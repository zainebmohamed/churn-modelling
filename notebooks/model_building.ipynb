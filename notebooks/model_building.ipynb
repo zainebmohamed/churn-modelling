{
 "cells": [
  {
   "cell_type": "markdown",
   "id": "5a5b9c25-a02a-458c-97f4-b1bd15ec8279",
   "metadata": {},
   "source": [
    "### **Model Building**\n",
    "\n",
    "**Background**\n",
    "- Build and train a churn pipeline that evaluates several classification estimators\n",
    "- Recall is a critical metric in the telecom industry, and so model evaluation efforts will focus exclusively on optimising recall\n",
    "  - Why optimise recall?\n",
    "     - Higher cost of false negatives than false positives\n",
    "     - More expensive to replace a customer than retain an existing one (up to 5-10 times) through targeted retention efforts\n",
    "\n",
    "**Goal**\n",
    "- Model Building: Build a robust pipeline that handles class imbalance, encodes and scales data, performs cross-validation, tunes hyperparameters and returns calibrated probabilities\n",
    "- Model Evaluation: Achieve Recall >= 0.8"
   ]
  },
  {
   "cell_type": "code",
   "execution_count": 157,
   "id": "7bde4376-3168-4111-afff-ef3ea14473f1",
   "metadata": {},
   "outputs": [],
   "source": [
    "import pandas as pd\n",
    "import numpy as np\n",
    "import os\n",
    "import logging\n",
    "from sklearn.model_selection import train_test_split\n",
    "from sklearn.compose import ColumnTransformer\n",
    "from sklearn.preprocessing import OneHotEncoder, StandardScaler\n",
    "from sklearn.pipeline import Pipeline\n",
    "from sklearn.linear_model import LogisticRegression\n",
    "from sklearn.ensemble import RandomForestClassifier, GradientBoostingClassifier\n",
    "from xgboost import XGBClassifier\n",
    "from sklearn.svm import SVC\n",
    "from sklearn.model_selection import StratifiedKFold, cross_val_score, GridSearchCV\n",
    "from sklearn.metrics import accuracy_score, precision_score, recall_score, f1_score, classification_report, precision_recall_curve\n",
    "import matplotlib.pyplot as plt\n",
    "from sklearn.calibration import CalibratedClassifierCV\n",
    "import joblib"
   ]
  },
  {
   "cell_type": "code",
   "execution_count": 159,
   "id": "92eee738-1cf4-46ab-b3f8-844055cadaa3",
   "metadata": {},
   "outputs": [],
   "source": [
    "# Set up logger\n",
    "logging.basicConfig(level=logging.INFO, format='%(asctime)s - %(levelname)s - %(message)s')\n",
    "logger = logging.getLogger(__name__)"
   ]
  },
  {
   "cell_type": "code",
   "execution_count": 161,
   "id": "d73b1d2f-194e-4941-9875-fc4303d545a6",
   "metadata": {},
   "outputs": [],
   "source": [
    "class ChurnClassifier:\n",
    "    def __init__(self, logger, path):\n",
    "        self.logger = logger or logging.getLogger(__name__)\n",
    "        self.path = path\n",
    "        self.random_state = 42\n",
    "        self.data = None\n",
    "        self.preprocessor = None\n",
    "\n",
    "    def load_data(self):\n",
    "        try:\n",
    "            # Read in pre-processed csv into a dataframe\n",
    "            parent_path = os.path.dirname(os.getcwd())\n",
    "            data = pd.read_csv(os.path.join(parent_path, self.path))\n",
    "            self.logger.info(f'CSV data from {path} loaded into dataframe successfully: {data.shape}')\n",
    "        except Exception as err:\n",
    "            self.logger.exception(f'Error whilst reading csv data into a dataframe: {err}')\n",
    "        return data\n",
    "\n",
    "    def split_train_test_data(self):\n",
    "        try: \n",
    "            self.data = self.load_data()\n",
    "            X = self.data.drop('Exited', axis=1)\n",
    "            y = self.data['Exited']\n",
    "            \n",
    "            X_train, X_test, y_train, y_test = train_test_split(X, y, test_size= 0.2, random_state=self.random_state)\n",
    "        except Exception as err:\n",
    "            self.logger.exception(f'Error during train test split: {err}')\n",
    "\n",
    "        return X_train, X_test, y_train, y_test\n",
    "\n",
    "    def preprocess_data(self):\n",
    "        # Identify categorical and numerical variables to undergo encoding and scaling (respectively) - Exclude columns which will \n",
    "        try:\n",
    "            cat_vars = self.data.select_dtypes(include=['object']).columns.to_list()\n",
    "        \n",
    "            # Numerical variables excluding columns which will not be subject to scaling\n",
    "            num_df = self.data.select_dtypes(include=['number'])\n",
    "            num_vars = num_df.loc[:,~num_df.isin([0,1]).all()].columns.to_list()\n",
    "    \n",
    "            # Construct the preprocessor\n",
    "            preprocessor = ColumnTransformer([('encoder', OneHotEncoder(), cat_vars),\n",
    "                                      ('scaler' , StandardScaler(), num_vars)],\n",
    "                                      remainder = 'passthrough')\n",
    "            self.logger.info('Data preprocessing complete')\n",
    "        except Exception as err:\n",
    "            self.logger.Exception(f'Error during preprocessing: {err}')\n",
    "        \n",
    "        return preprocessor\n",
    "        \n",
    "    def build_pipeline(self, model):\n",
    "        try:\n",
    "            # Call the 'preprocess_data' function to return the preprocessor required to build the pipeline\n",
    "            self.preprocessor = self.preprocess_data()\n",
    "            pipeline = Pipeline(steps=[('preprocessor' , self.preprocessor),\n",
    "                                   ('model', model)])\n",
    "            self.logger.info('Pipeline built successfully')\n",
    "        except Exception as err:\n",
    "            self.logger.Exception(f'Error during pipeline build: {err}')\n",
    "            \n",
    "        return pipeline\n",
    "\n",
    "    def train_pipeline(self, X_train, y_train):\n",
    "        # Set class_weight = 'balanced' or calculate scale_pos_weight to assign a higher weight to the positive class\n",
    "        scale_pos_weight = round(sum(y_train == 0) / sum(y_train == 1))\n",
    "        models = {'LogisticRegression' : LogisticRegression(random_state = self.random_state, class_weight='balanced'),\n",
    "                  'RandomForestClassifier': RandomForestClassifier(random_state = self.random_state,class_weight='balanced'),\n",
    "                  'SVM': SVC(random_state = self.random_state, class_weight='balanced'),\n",
    "                  'XGB': XGBClassifier(random_state = self.random_state, scale_pos_weight=scale_pos_weight)}\n",
    "\n",
    "        trained_models = {}\n",
    "        for model, classifier in models.items():\n",
    "            # Construct pipeline for each classifier\n",
    "            pipeline = self.build_pipeline(classifier)\n",
    "            self.logger.info(f'Pipeline built for {model}')\n",
    "        \n",
    "            # Carry out Cross Validation\n",
    "            cv = StratifiedKFold()\n",
    "            scores = cross_val_score(pipeline, X_train, y_train, cv=cv, scoring = 'recall')\n",
    "            print(f\"{model} - Mean CV Score: {scores.mean()}\")\n",
    "    \n",
    "            # Train model using the entire training dataset\n",
    "    \n",
    "            pipeline.fit(X_train, y_train)\n",
    "\n",
    "            # Store each pipeline in a dictionary\n",
    "            trained_models[model] = pipeline\n",
    "        \n",
    "        self.logger.info('All models trained successfully')\n",
    "\n",
    "        return trained_models\n",
    "\n",
    "    def evaluate_models(self, X_test, y_test, trained_models):\n",
    "        classifiers = []\n",
    "        for model, pipeline in trained_models.items():\n",
    "            y_pred = pipeline.predict(X_test)\n",
    "            accuracy = accuracy_score(y_test, y_pred)\n",
    "            precision = precision_score(y_test, y_pred)\n",
    "            recall = recall_score(y_test, y_pred)\n",
    "            f1 = f1_score(y_test, y_pred)\n",
    "            classifiers.append([model, accuracy, precision, recall, f1])\n",
    "        \n",
    "        # Output model results into a dataframe\n",
    "        columns = ['Classifier', 'Accuracy', 'Precision', 'Recall' , 'F1_Score']\n",
    "        result = pd.DataFrame(data = classifiers, columns = columns)\n",
    "\n",
    "        return result\n",
    "\n",
    "    def optimise_best_model(self, X_train, y_train, X_test, y_test, model, param_grid):\n",
    "        # Perform hyperparameter tuning using GridSearch to optimise the model for recall\n",
    "        cv = StratifiedKFold()\n",
    "        pipeline = self.build_pipeline(model)\n",
    "        grid_search = GridSearchCV(pipeline, param_grid=param_grid, cv=cv, scoring='recall', verbose=1, n_jobs=-1)\n",
    "        grid_search.fit(X_train, y_train)\n",
    "        optimal_model = grid_search.best_estimator_\n",
    "\n",
    "        # Evaluate the model on test data\n",
    "        y_pred = optimal_model.predict(X_test)\n",
    "\n",
    "        print(classification_report(y_test, y_pred))\n",
    "\n",
    "        \n",
    "        return optimal_model, y_pred\n",
    "\n",
    "    def calibrate_classifier(self, X_train, y_train, X_test, model):\n",
    "        # Instantiate the 'CalibratedClassifierCV' class, passing in the base estimator\n",
    "        calibrated_model = CalibratedClassifierCV(model, method='sigmoid')\n",
    "\n",
    "        # Fit the calibrated model\n",
    "        calibrated_model.fit(X_train, y_train)\n",
    "        \n",
    "        # Return the calibrated probabilities\n",
    "        y_proba = calibrated_model.predict_proba(X_test)[:,1]\n",
    "\n",
    "        return y_proba\n",
    "\n",
    "    def plot_precision_recall_curve(self, y_test, y_probs):\n",
    "        precision, recall, thresholds = precision_recall_curve(y_test, y_probs)\n",
    "        plt.figure(figsize=(6,4))\n",
    "        plt.plot(thresholds, recall[:-1], label='Recall')\n",
    "        plt.plot(thresholds, precision[:-1], label='Precision')\n",
    "        plt.title('Precision-Recall Threshold Analysis')\n",
    "        plt.xlabel('Thresholds')\n",
    "        plt.legend()\n",
    "        plt.tight_layout();\n",
    "\n",
    "        return precision, recall, thresholds\n",
    "\n",
    "    def get_optimal_threshold_for_recall(self, precision, recall, thresholds):\n",
    "        # Find the highest threshold and corresponding precision where recall is at least 0.8\n",
    "        optimal_recall_index = np.where(recall >= 0.8)[0][-1]\n",
    "        optimal_recall = recall[optimal_recall_index]\n",
    "        \n",
    "        \n",
    "        optimal_threshold = thresholds[optimal_recall_index - 1]\n",
    "        \n",
    "        precision_with_optimal_recall = precision[optimal_recall_index]\n",
    "        \n",
    "        print(f'Optimal Recall: {optimal_recall}')\n",
    "        print(f'Precision: {precision_with_optimal_recall}')\n",
    "        print(f'Threshold: {optimal_threshold}')\n",
    "\n",
    "    def save_model(self, model):\n",
    "        # Save model in a specified directory\n",
    "        model_path = os.path.join(os.path.dirname(os.getcwd()), 'models')\n",
    "        os.makedirs(model_path,exist_ok=True)\n",
    "        joblib.dump(model, os.path.join(model_path,'churn_model.joblib'))\n",
    "        self.logger.info('Model saved successfully')\n",
    "\n"
   ]
  },
  {
   "cell_type": "code",
   "execution_count": 163,
   "id": "5b6fe5e8-3aa6-4d25-b942-81a6b576f4ac",
   "metadata": {},
   "outputs": [
    {
     "name": "stderr",
     "output_type": "stream",
     "text": [
      "2025-08-12 14:11:40,624 - INFO - CSV data from data/clean_churn_data.csv loaded into dataframe successfully: (10000, 11)\n",
      "2025-08-12 14:11:40,639 - INFO - Data preprocessing complete\n",
      "2025-08-12 14:11:40,639 - INFO - Pipeline built successfully\n",
      "2025-08-12 14:11:40,640 - INFO - Pipeline built for LogisticRegression\n",
      "2025-08-12 14:11:40,732 - INFO - Data preprocessing complete\n",
      "2025-08-12 14:11:40,732 - INFO - Pipeline built successfully\n",
      "2025-08-12 14:11:40,733 - INFO - Pipeline built for RandomForestClassifier\n"
     ]
    },
    {
     "name": "stdout",
     "output_type": "stream",
     "text": [
      "LogisticRegression - Mean CV Score: 0.6922103195196085\n",
      "RandomForestClassifier - Mean CV Score: 0.4452572466454147\n"
     ]
    },
    {
     "name": "stderr",
     "output_type": "stream",
     "text": [
      "2025-08-12 14:11:43,107 - INFO - Data preprocessing complete\n",
      "2025-08-12 14:11:43,107 - INFO - Pipeline built successfully\n",
      "2025-08-12 14:11:43,107 - INFO - Pipeline built for SVM\n"
     ]
    },
    {
     "name": "stdout",
     "output_type": "stream",
     "text": [
      "SVM - Mean CV Score: 0.7463266365186448\n"
     ]
    },
    {
     "name": "stderr",
     "output_type": "stream",
     "text": [
      "2025-08-12 14:11:45,866 - INFO - Data preprocessing complete\n",
      "2025-08-12 14:11:45,867 - INFO - Pipeline built successfully\n",
      "2025-08-12 14:11:45,867 - INFO - Pipeline built for XGB\n",
      "2025-08-12 14:11:46,138 - INFO - All models trained successfully\n"
     ]
    },
    {
     "name": "stdout",
     "output_type": "stream",
     "text": [
      "XGB - Mean CV Score: 0.6161798502483505\n"
     ]
    }
   ],
   "source": [
    "# Instantiate the 'ChurnClassifier' class\n",
    "path = 'data/clean_churn_data.csv'\n",
    "churn = ChurnClassifier(logger, path)\n",
    "\n",
    "X_train, X_test, y_train, y_test = churn.split_train_test_data()\n",
    "\n",
    "# Train multiple classifier pipelines and return cross val recall score\n",
    "trained_models = churn.train_pipeline(X_train, y_train)"
   ]
  },
  {
   "cell_type": "code",
   "execution_count": 165,
   "id": "27ded0b5-405e-4579-9b73-b1668f37d769",
   "metadata": {},
   "outputs": [
    {
     "data": {
      "text/html": [
       "<div>\n",
       "<style scoped>\n",
       "    .dataframe tbody tr th:only-of-type {\n",
       "        vertical-align: middle;\n",
       "    }\n",
       "\n",
       "    .dataframe tbody tr th {\n",
       "        vertical-align: top;\n",
       "    }\n",
       "\n",
       "    .dataframe thead th {\n",
       "        text-align: right;\n",
       "    }\n",
       "</style>\n",
       "<table border=\"1\" class=\"dataframe\">\n",
       "  <thead>\n",
       "    <tr style=\"text-align: right;\">\n",
       "      <th></th>\n",
       "      <th>Classifier</th>\n",
       "      <th>Accuracy</th>\n",
       "      <th>Precision</th>\n",
       "      <th>Recall</th>\n",
       "      <th>F1_Score</th>\n",
       "    </tr>\n",
       "  </thead>\n",
       "  <tbody>\n",
       "    <tr>\n",
       "      <th>0</th>\n",
       "      <td>LogisticRegression</td>\n",
       "      <td>0.7195</td>\n",
       "      <td>0.384615</td>\n",
       "      <td>0.712468</td>\n",
       "      <td>0.499554</td>\n",
       "    </tr>\n",
       "    <tr>\n",
       "      <th>1</th>\n",
       "      <td>RandomForestClassifier</td>\n",
       "      <td>0.8680</td>\n",
       "      <td>0.774468</td>\n",
       "      <td>0.463104</td>\n",
       "      <td>0.579618</td>\n",
       "    </tr>\n",
       "    <tr>\n",
       "      <th>2</th>\n",
       "      <td>SVM</td>\n",
       "      <td>0.7915</td>\n",
       "      <td>0.480952</td>\n",
       "      <td>0.770992</td>\n",
       "      <td>0.592375</td>\n",
       "    </tr>\n",
       "    <tr>\n",
       "      <th>3</th>\n",
       "      <td>XGB</td>\n",
       "      <td>0.8275</td>\n",
       "      <td>0.551064</td>\n",
       "      <td>0.659033</td>\n",
       "      <td>0.600232</td>\n",
       "    </tr>\n",
       "  </tbody>\n",
       "</table>\n",
       "</div>"
      ],
      "text/plain": [
       "               Classifier  Accuracy  Precision    Recall  F1_Score\n",
       "0      LogisticRegression    0.7195   0.384615  0.712468  0.499554\n",
       "1  RandomForestClassifier    0.8680   0.774468  0.463104  0.579618\n",
       "2                     SVM    0.7915   0.480952  0.770992  0.592375\n",
       "3                     XGB    0.8275   0.551064  0.659033  0.600232"
      ]
     },
     "execution_count": 165,
     "metadata": {},
     "output_type": "execute_result"
    }
   ],
   "source": [
    "# Evaluate models against performance metrics\n",
    "churn.evaluate_models(X_test, y_test, trained_models)"
   ]
  },
  {
   "cell_type": "markdown",
   "id": "192b6a14-1bc4-4f32-9f5d-29eb16907ded",
   "metadata": {},
   "source": [
    "Hyperparameter Tuning\n",
    "- The SVM classifier performs the best when evaluated for recall, and so we'll proceed with hyperparameter tuning"
   ]
  },
  {
   "cell_type": "code",
   "execution_count": 168,
   "id": "2ad56776-1013-48af-99d3-845ccee9bbb0",
   "metadata": {},
   "outputs": [
    {
     "name": "stderr",
     "output_type": "stream",
     "text": [
      "2025-08-12 14:11:51,061 - INFO - Data preprocessing complete\n",
      "2025-08-12 14:11:51,062 - INFO - Pipeline built successfully\n"
     ]
    },
    {
     "name": "stdout",
     "output_type": "stream",
     "text": [
      "Fitting 5 folds for each of 12 candidates, totalling 60 fits\n",
      "              precision    recall  f1-score   support\n",
      "\n",
      "           0       0.94      0.74      0.83      1607\n",
      "           1       0.43      0.80      0.56       393\n",
      "\n",
      "    accuracy                           0.75      2000\n",
      "   macro avg       0.68      0.77      0.69      2000\n",
      "weighted avg       0.84      0.75      0.77      2000\n",
      "\n"
     ]
    }
   ],
   "source": [
    "param_grid = [{'model__kernel': ['linear'] , 'model__C': [1, 0.1, 0.5]},\n",
    "              {'model__kernel': ['rbf'],  'model__C': [1, 0.1, 0.5], 'model__gamma' : [0.1,0.5,1]}]\n",
    "model = SVC(random_state=42, class_weight='balanced', probability=True)\n",
    "\n",
    "# Perform hyperparameter tuning and model evaluation\n",
    "optimal_model, y_pred = churn.optimise_best_model(X_train, y_train, X_test, y_test, model, param_grid)"
   ]
  },
  {
   "cell_type": "code",
   "execution_count": 170,
   "id": "e1a5736d-3f3b-4fc8-be9d-4a238b9d9a5c",
   "metadata": {},
   "outputs": [
    {
     "data": {
      "text/plain": [
       "{'C': 0.1,\n",
       " 'break_ties': False,\n",
       " 'cache_size': 200,\n",
       " 'class_weight': 'balanced',\n",
       " 'coef0': 0.0,\n",
       " 'decision_function_shape': 'ovr',\n",
       " 'degree': 3,\n",
       " 'gamma': 0.5,\n",
       " 'kernel': 'rbf',\n",
       " 'max_iter': -1,\n",
       " 'probability': True,\n",
       " 'random_state': 42,\n",
       " 'shrinking': True,\n",
       " 'tol': 0.001,\n",
       " 'verbose': False}"
      ]
     },
     "execution_count": 170,
     "metadata": {},
     "output_type": "execute_result"
    }
   ],
   "source": [
    "# Retrieve the hyperparameters of the best model\n",
    "optimal_model['model'].get_params()"
   ]
  },
  {
   "cell_type": "markdown",
   "id": "e18a30e9-ad09-4953-9812-8a02454f16c6",
   "metadata": {},
   "source": [
    "Probability Calibration\n",
    "- SVM doesn't natively produce calibrated probabilities, and so to combat this, the classifier will be calibrated using sklearn's 'CalibratedClassifierCV'.\n",
    "- Calibrated probabilities allow for flexible and more meaningful thresholding"
   ]
  },
  {
   "cell_type": "code",
   "execution_count": 173,
   "id": "7637ff4b-d803-4d40-ad80-27e8038aa739",
   "metadata": {},
   "outputs": [],
   "source": [
    "# Calibrate SVM classifier\n",
    "y_probs = churn.calibrate_classifier(X_train, y_train, X_test, optimal_model)"
   ]
  },
  {
   "cell_type": "code",
   "execution_count": 174,
   "id": "b393bd41-d49b-4cfd-a920-40d9ef1d9564",
   "metadata": {},
   "outputs": [
    {
     "name": "stdout",
     "output_type": "stream",
     "text": [
      "Optimal Recall: 0.8015267175572519\n",
      "Precision: 0.43209876543209874\n",
      "Threshold: 0.20896566805736647\n"
     ]
    },
    {
     "data": {
      "image/png": "[encoded data removed]",
      "text/plain": [
       "<Figure size 600x400 with 1 Axes>"
      ]
     },
     "metadata": {},
     "output_type": "display_data"
    }
   ],
   "source": [
    "# Plot a precision-recall curve to visualise the precision and recall score at various thresholds. Identify the optimal threshold for recall\n",
    "precision, recall, thresholds = churn.plot_precision_recall_curve(y_test, y_probs)\n",
    "churn.get_optimal_threshold_for_recall(precision, recall, thresholds)"
   ]
  },
  {
   "cell_type": "code",
   "execution_count": 175,
   "id": "b97adc7b-e8fc-4490-aad9-b706166e2f5e",
   "metadata": {},
   "outputs": [
    {
     "name": "stderr",
     "output_type": "stream",
     "text": [
      "2025-08-12 14:16:37,162 - INFO - Model saved successfully\n"
     ]
    }
   ],
   "source": [
    "# Save the model\n",
    "churn.save_model(optimal_model)"
   ]
  },
  {
   "cell_type": "markdown",
   "id": "b8fea2e0-ade7-4319-97e9-1d9baff49c65",
   "metadata": {},
   "source": [
    "**Model Performance & Key Findings**\n",
    "\n"
   ]
  },
  {
   "cell_type": "markdown",
   "id": "a27a2855-ca4e-47ad-a60a-1b766520f384",
   "metadata": {},
   "source": [
    "**Model Performance**\n",
    "\n",
    "`Recall: 0.80`\n",
    "\n",
    "`Precision: 0.43`\n",
    "\n",
    "   - Recall - 0.80 which suggests that the model is catching 80% of actual churners, resulting in a low false negative rate. The model was built to optimise recall and minimise the false negative rate given the high cost of churners in the telco industry.\n",
    "     \n",
    "   - Precision - 0.43 Given the low cost of retention incentives compared to the the cost of churners, the precision score is a reasonable trade-off to prioritise a low false negative rate despite the high false positive rate. It is up to 5-10 times more expensive to replace a customer than retain an existing one through low cost retention efforts e.g. personalised emails/SMS/perks or offers. Lower precision is an acceptable trade-off in favour of higher recall, as the cost of missing a churner outweights false positives.\n"
   ]
  }
 ],
 "metadata": {
  "kernelspec": {
   "display_name": "Python [conda env:base] *",
   "language": "python",
   "name": "conda-base-py"
  },
  "language_info": {
   "codemirror_mode": {
    "name": "ipython",
    "version": 3
   },
   "file_extension": ".py",
   "mimetype": "text/x-python",
   "name": "python",
   "nbconvert_exporter": "python",
   "pygments_lexer": "ipython3",
   "version": "3.12.7"
  }
 },
 "nbformat": 4,
 "nbformat_minor": 5
}
